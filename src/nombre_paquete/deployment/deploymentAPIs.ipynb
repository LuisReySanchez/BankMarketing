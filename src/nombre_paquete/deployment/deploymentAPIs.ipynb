{
 "cells": [
  {
   "cell_type": "code",
   "execution_count": 6,
   "metadata": {},
   "outputs": [
    {
     "ename": "RuntimeError",
     "evalue": "asyncio.run() cannot be called from a running event loop",
     "output_type": "error",
     "traceback": [
      "\u001b[1;31m---------------------------------------------------------------------------\u001b[0m",
      "\u001b[1;31mRuntimeError\u001b[0m                              Traceback (most recent call last)",
      "\u001b[1;32md:\\OneDrive - UNIQUEYANBAL\\Proyecto-mlds6\\BankMarketing\\src\\nombre_paquete\\deployment\\deploymentAPIs.ipynb Cell 1\u001b[0m in \u001b[0;36m3\n\u001b[0;32m     <a href='vscode-notebook-cell:/d%3A/OneDrive%20-%20UNIQUEYANBAL/Proyecto-mlds6/BankMarketing/src/nombre_paquete/deployment/deploymentAPIs.ipynb#W2sZmlsZQ%3D%3D?line=34'>35</a>\u001b[0m \u001b[39m# Iniciar el servidor de desarrollo con Uvicorn\u001b[39;00m\n\u001b[0;32m     <a href='vscode-notebook-cell:/d%3A/OneDrive%20-%20UNIQUEYANBAL/Proyecto-mlds6/BankMarketing/src/nombre_paquete/deployment/deploymentAPIs.ipynb#W2sZmlsZQ%3D%3D?line=35'>36</a>\u001b[0m \u001b[39mif\u001b[39;00m \u001b[39m__name__\u001b[39m \u001b[39m==\u001b[39m \u001b[39m\"\u001b[39m\u001b[39m__main__\u001b[39m\u001b[39m\"\u001b[39m:\n\u001b[1;32m---> <a href='vscode-notebook-cell:/d%3A/OneDrive%20-%20UNIQUEYANBAL/Proyecto-mlds6/BankMarketing/src/nombre_paquete/deployment/deploymentAPIs.ipynb#W2sZmlsZQ%3D%3D?line=36'>37</a>\u001b[0m     uvicorn\u001b[39m.\u001b[39;49mrun(app, port\u001b[39m=\u001b[39;49m\u001b[39m8000\u001b[39;49m)\n",
      "File \u001b[1;32md:\\Users\\lreysanchez\\menvPy3_10\\lib\\site-packages\\uvicorn\\main.py:578\u001b[0m, in \u001b[0;36mrun\u001b[1;34m(app, host, port, uds, fd, loop, http, ws, ws_max_size, ws_ping_interval, ws_ping_timeout, ws_per_message_deflate, lifespan, interface, reload, reload_dirs, reload_includes, reload_excludes, reload_delay, workers, env_file, log_config, log_level, access_log, proxy_headers, server_header, date_header, forwarded_allow_ips, root_path, limit_concurrency, backlog, limit_max_requests, timeout_keep_alive, timeout_graceful_shutdown, ssl_keyfile, ssl_certfile, ssl_keyfile_password, ssl_version, ssl_cert_reqs, ssl_ca_certs, ssl_ciphers, headers, use_colors, app_dir, factory, h11_max_incomplete_event_size)\u001b[0m\n\u001b[0;32m    576\u001b[0m     Multiprocess(config, target\u001b[39m=\u001b[39mserver\u001b[39m.\u001b[39mrun, sockets\u001b[39m=\u001b[39m[sock])\u001b[39m.\u001b[39mrun()\n\u001b[0;32m    577\u001b[0m \u001b[39melse\u001b[39;00m:\n\u001b[1;32m--> 578\u001b[0m     server\u001b[39m.\u001b[39;49mrun()\n\u001b[0;32m    579\u001b[0m \u001b[39mif\u001b[39;00m config\u001b[39m.\u001b[39muds \u001b[39mand\u001b[39;00m os\u001b[39m.\u001b[39mpath\u001b[39m.\u001b[39mexists(config\u001b[39m.\u001b[39muds):\n\u001b[0;32m    580\u001b[0m     os\u001b[39m.\u001b[39mremove(config\u001b[39m.\u001b[39muds)  \u001b[39m# pragma: py-win32\u001b[39;00m\n",
      "File \u001b[1;32md:\\Users\\lreysanchez\\menvPy3_10\\lib\\site-packages\\uvicorn\\server.py:61\u001b[0m, in \u001b[0;36mServer.run\u001b[1;34m(self, sockets)\u001b[0m\n\u001b[0;32m     59\u001b[0m \u001b[39mdef\u001b[39;00m \u001b[39mrun\u001b[39m(\u001b[39mself\u001b[39m, sockets: Optional[List[socket\u001b[39m.\u001b[39msocket]] \u001b[39m=\u001b[39m \u001b[39mNone\u001b[39;00m) \u001b[39m-\u001b[39m\u001b[39m>\u001b[39m \u001b[39mNone\u001b[39;00m:\n\u001b[0;32m     60\u001b[0m     \u001b[39mself\u001b[39m\u001b[39m.\u001b[39mconfig\u001b[39m.\u001b[39msetup_event_loop()\n\u001b[1;32m---> 61\u001b[0m     \u001b[39mreturn\u001b[39;00m asyncio\u001b[39m.\u001b[39;49mrun(\u001b[39mself\u001b[39;49m\u001b[39m.\u001b[39;49mserve(sockets\u001b[39m=\u001b[39;49msockets))\n",
      "File \u001b[1;32m~\\AppData\\Local\\Programs\\Python\\Python310\\lib\\asyncio\\runners.py:33\u001b[0m, in \u001b[0;36mrun\u001b[1;34m(main, debug)\u001b[0m\n\u001b[0;32m      9\u001b[0m \u001b[39m\"\"\"Execute the coroutine and return the result.\u001b[39;00m\n\u001b[0;32m     10\u001b[0m \n\u001b[0;32m     11\u001b[0m \u001b[39mThis function runs the passed coroutine, taking care of\u001b[39;00m\n\u001b[1;32m   (...)\u001b[0m\n\u001b[0;32m     30\u001b[0m \u001b[39m    asyncio.run(main())\u001b[39;00m\n\u001b[0;32m     31\u001b[0m \u001b[39m\"\"\"\u001b[39;00m\n\u001b[0;32m     32\u001b[0m \u001b[39mif\u001b[39;00m events\u001b[39m.\u001b[39m_get_running_loop() \u001b[39mis\u001b[39;00m \u001b[39mnot\u001b[39;00m \u001b[39mNone\u001b[39;00m:\n\u001b[1;32m---> 33\u001b[0m     \u001b[39mraise\u001b[39;00m \u001b[39mRuntimeError\u001b[39;00m(\n\u001b[0;32m     34\u001b[0m         \u001b[39m\"\u001b[39m\u001b[39masyncio.run() cannot be called from a running event loop\u001b[39m\u001b[39m\"\u001b[39m)\n\u001b[0;32m     36\u001b[0m \u001b[39mif\u001b[39;00m \u001b[39mnot\u001b[39;00m coroutines\u001b[39m.\u001b[39miscoroutine(main):\n\u001b[0;32m     37\u001b[0m     \u001b[39mraise\u001b[39;00m \u001b[39mValueError\u001b[39;00m(\u001b[39m\"\u001b[39m\u001b[39ma coroutine was expected, got \u001b[39m\u001b[39m{!r}\u001b[39;00m\u001b[39m\"\u001b[39m\u001b[39m.\u001b[39mformat(main))\n",
      "\u001b[1;31mRuntimeError\u001b[0m: asyncio.run() cannot be called from a running event loop"
     ]
    }
   ],
   "source": [
    "\n",
    "from fastapi import FastAPI\n",
    "from pydantic import BaseModel\n",
    "import joblib\n",
    "import numpy as np\n",
    "import os \n",
    "import uvicorn\n",
    "# Cargar el modelo\n",
    "modelo = joblib.load('model_rf_GSearch.joblib')\n",
    "\n",
    "# Definir la estructura de los datos de entrada\n",
    "class DatosEntrada(BaseModel):\n",
    "    features: list[float]\n",
    "\n",
    "    \n",
    "# Crear la instancia de la aplicación FastAPI\n",
    "app = FastAPI()\n",
    "\n",
    "# Definir la ruta y el método para verificar si la aplicación está en funcionamiento\n",
    "@app.get(\"/\")\n",
    "def alive():\n",
    "    return 'Alive'\n",
    "\n",
    "# Definir la ruta y el método para hacer predicciones\n",
    "@app.post(\"/predict\")\n",
    "def predict(data: DatosEntrada):\n",
    "    # Convertir los datos de entrada en un array de NumPy\n",
    "    input_data = np.array([data.features], dtype=np.float32)\n",
    "\n",
    "    # Realizar la predicción utilizando el modelo cargado\n",
    "    prediction = modelo.predict(input_data)\n",
    "\n",
    "    # Devolver la predicción como resultado\n",
    "    return {\"prediction\": prediction[0]}\n",
    "\n",
    "# Iniciar el servidor de desarrollo con Uvicorn\n",
    "if __name__ == \"__main__\":\n",
    "    uvicorn.run(app, port=8000)\n"
   ]
  },
  {
   "cell_type": "code",
   "execution_count": null,
   "metadata": {},
   "outputs": [],
   "source": []
  }
 ],
 "metadata": {
  "kernelspec": {
   "display_name": "menvPy3_10",
   "language": "python",
   "name": "python3"
  },
  "language_info": {
   "codemirror_mode": {
    "name": "ipython",
    "version": 3
   },
   "file_extension": ".py",
   "mimetype": "text/x-python",
   "name": "python",
   "nbconvert_exporter": "python",
   "pygments_lexer": "ipython3",
   "version": "3.10.2"
  },
  "orig_nbformat": 4
 },
 "nbformat": 4,
 "nbformat_minor": 2
}
