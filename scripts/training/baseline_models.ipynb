{
 "cells": [
  {
   "cell_type": "code",
   "execution_count": 1,
   "metadata": {},
   "outputs": [],
   "source": [
    "import pandas as pd\n",
    "import warnings\n",
    "\n",
    "warnings.filterwarnings('ignore')\n",
    "import pickle\n",
    "import os"
   ]
  },
  {
   "cell_type": "code",
   "execution_count": 2,
   "metadata": {},
   "outputs": [],
   "source": [
    "from sklearn.svm import LinearSVC\n",
    "from sklearn.svm import SVC\n",
    "from sklearn.model_selection import train_test_split\n",
    "from sklearn.model_selection import GridSearchCV\n",
    "from sklearn.metrics import precision_score, accuracy_score,classification_report,confusion_matrix"
   ]
  },
  {
   "cell_type": "code",
   "execution_count": 3,
   "metadata": {},
   "outputs": [
    {
     "data": {
      "text/html": [
       "<div>\n",
       "<style scoped>\n",
       "    .dataframe tbody tr th:only-of-type {\n",
       "        vertical-align: middle;\n",
       "    }\n",
       "\n",
       "    .dataframe tbody tr th {\n",
       "        vertical-align: top;\n",
       "    }\n",
       "\n",
       "    .dataframe thead th {\n",
       "        text-align: right;\n",
       "    }\n",
       "</style>\n",
       "<table border=\"1\" class=\"dataframe\">\n",
       "  <thead>\n",
       "    <tr style=\"text-align: right;\">\n",
       "      <th></th>\n",
       "      <th>age</th>\n",
       "      <th>job</th>\n",
       "      <th>marital</th>\n",
       "      <th>education</th>\n",
       "      <th>default</th>\n",
       "      <th>housing</th>\n",
       "      <th>loan</th>\n",
       "      <th>contact</th>\n",
       "      <th>month</th>\n",
       "      <th>day_of_week</th>\n",
       "      <th>...</th>\n",
       "      <th>campaign</th>\n",
       "      <th>pdays</th>\n",
       "      <th>previous</th>\n",
       "      <th>poutcome</th>\n",
       "      <th>emp.var.rate</th>\n",
       "      <th>cons.price.idx</th>\n",
       "      <th>cons.conf.idx</th>\n",
       "      <th>euribor3m</th>\n",
       "      <th>nr.employed</th>\n",
       "      <th>y</th>\n",
       "    </tr>\n",
       "  </thead>\n",
       "  <tbody>\n",
       "    <tr>\n",
       "      <th>0</th>\n",
       "      <td>5</td>\n",
       "      <td>3</td>\n",
       "      <td>1</td>\n",
       "      <td>0</td>\n",
       "      <td>2</td>\n",
       "      <td>2</td>\n",
       "      <td>2</td>\n",
       "      <td>1</td>\n",
       "      <td>6</td>\n",
       "      <td>1</td>\n",
       "      <td>...</td>\n",
       "      <td>1</td>\n",
       "      <td>999</td>\n",
       "      <td>0</td>\n",
       "      <td>0</td>\n",
       "      <td>1.1</td>\n",
       "      <td>93.994</td>\n",
       "      <td>-36.4</td>\n",
       "      <td>4.857</td>\n",
       "      <td>5191.0</td>\n",
       "      <td>0</td>\n",
       "    </tr>\n",
       "    <tr>\n",
       "      <th>1</th>\n",
       "      <td>5</td>\n",
       "      <td>7</td>\n",
       "      <td>1</td>\n",
       "      <td>3</td>\n",
       "      <td>1</td>\n",
       "      <td>2</td>\n",
       "      <td>2</td>\n",
       "      <td>1</td>\n",
       "      <td>6</td>\n",
       "      <td>1</td>\n",
       "      <td>...</td>\n",
       "      <td>1</td>\n",
       "      <td>999</td>\n",
       "      <td>0</td>\n",
       "      <td>0</td>\n",
       "      <td>1.1</td>\n",
       "      <td>93.994</td>\n",
       "      <td>-36.4</td>\n",
       "      <td>4.857</td>\n",
       "      <td>5191.0</td>\n",
       "      <td>0</td>\n",
       "    </tr>\n",
       "    <tr>\n",
       "      <th>2</th>\n",
       "      <td>3</td>\n",
       "      <td>7</td>\n",
       "      <td>1</td>\n",
       "      <td>3</td>\n",
       "      <td>2</td>\n",
       "      <td>0</td>\n",
       "      <td>2</td>\n",
       "      <td>1</td>\n",
       "      <td>6</td>\n",
       "      <td>1</td>\n",
       "      <td>...</td>\n",
       "      <td>1</td>\n",
       "      <td>999</td>\n",
       "      <td>0</td>\n",
       "      <td>0</td>\n",
       "      <td>1.1</td>\n",
       "      <td>93.994</td>\n",
       "      <td>-36.4</td>\n",
       "      <td>4.857</td>\n",
       "      <td>5191.0</td>\n",
       "      <td>0</td>\n",
       "    </tr>\n",
       "    <tr>\n",
       "      <th>3</th>\n",
       "      <td>4</td>\n",
       "      <td>0</td>\n",
       "      <td>1</td>\n",
       "      <td>1</td>\n",
       "      <td>2</td>\n",
       "      <td>2</td>\n",
       "      <td>2</td>\n",
       "      <td>1</td>\n",
       "      <td>6</td>\n",
       "      <td>1</td>\n",
       "      <td>...</td>\n",
       "      <td>1</td>\n",
       "      <td>999</td>\n",
       "      <td>0</td>\n",
       "      <td>0</td>\n",
       "      <td>1.1</td>\n",
       "      <td>93.994</td>\n",
       "      <td>-36.4</td>\n",
       "      <td>4.857</td>\n",
       "      <td>5191.0</td>\n",
       "      <td>0</td>\n",
       "    </tr>\n",
       "    <tr>\n",
       "      <th>4</th>\n",
       "      <td>5</td>\n",
       "      <td>7</td>\n",
       "      <td>1</td>\n",
       "      <td>3</td>\n",
       "      <td>2</td>\n",
       "      <td>2</td>\n",
       "      <td>0</td>\n",
       "      <td>1</td>\n",
       "      <td>6</td>\n",
       "      <td>1</td>\n",
       "      <td>...</td>\n",
       "      <td>1</td>\n",
       "      <td>999</td>\n",
       "      <td>0</td>\n",
       "      <td>0</td>\n",
       "      <td>1.1</td>\n",
       "      <td>93.994</td>\n",
       "      <td>-36.4</td>\n",
       "      <td>4.857</td>\n",
       "      <td>5191.0</td>\n",
       "      <td>0</td>\n",
       "    </tr>\n",
       "    <tr>\n",
       "      <th>...</th>\n",
       "      <td>...</td>\n",
       "      <td>...</td>\n",
       "      <td>...</td>\n",
       "      <td>...</td>\n",
       "      <td>...</td>\n",
       "      <td>...</td>\n",
       "      <td>...</td>\n",
       "      <td>...</td>\n",
       "      <td>...</td>\n",
       "      <td>...</td>\n",
       "      <td>...</td>\n",
       "      <td>...</td>\n",
       "      <td>...</td>\n",
       "      <td>...</td>\n",
       "      <td>...</td>\n",
       "      <td>...</td>\n",
       "      <td>...</td>\n",
       "      <td>...</td>\n",
       "      <td>...</td>\n",
       "      <td>...</td>\n",
       "      <td>...</td>\n",
       "    </tr>\n",
       "    <tr>\n",
       "      <th>41181</th>\n",
       "      <td>3</td>\n",
       "      <td>0</td>\n",
       "      <td>1</td>\n",
       "      <td>6</td>\n",
       "      <td>2</td>\n",
       "      <td>0</td>\n",
       "      <td>2</td>\n",
       "      <td>0</td>\n",
       "      <td>7</td>\n",
       "      <td>0</td>\n",
       "      <td>...</td>\n",
       "      <td>1</td>\n",
       "      <td>999</td>\n",
       "      <td>0</td>\n",
       "      <td>0</td>\n",
       "      <td>-1.1</td>\n",
       "      <td>94.767</td>\n",
       "      <td>-50.8</td>\n",
       "      <td>1.028</td>\n",
       "      <td>4963.6</td>\n",
       "      <td>1</td>\n",
       "    </tr>\n",
       "    <tr>\n",
       "      <th>41182</th>\n",
       "      <td>2</td>\n",
       "      <td>10</td>\n",
       "      <td>2</td>\n",
       "      <td>0</td>\n",
       "      <td>2</td>\n",
       "      <td>0</td>\n",
       "      <td>2</td>\n",
       "      <td>0</td>\n",
       "      <td>7</td>\n",
       "      <td>0</td>\n",
       "      <td>...</td>\n",
       "      <td>1</td>\n",
       "      <td>9</td>\n",
       "      <td>1</td>\n",
       "      <td>1</td>\n",
       "      <td>-1.1</td>\n",
       "      <td>94.767</td>\n",
       "      <td>-50.8</td>\n",
       "      <td>1.028</td>\n",
       "      <td>4963.6</td>\n",
       "      <td>0</td>\n",
       "    </tr>\n",
       "    <tr>\n",
       "      <th>41184</th>\n",
       "      <td>4</td>\n",
       "      <td>1</td>\n",
       "      <td>1</td>\n",
       "      <td>5</td>\n",
       "      <td>2</td>\n",
       "      <td>2</td>\n",
       "      <td>2</td>\n",
       "      <td>0</td>\n",
       "      <td>7</td>\n",
       "      <td>0</td>\n",
       "      <td>...</td>\n",
       "      <td>1</td>\n",
       "      <td>999</td>\n",
       "      <td>0</td>\n",
       "      <td>0</td>\n",
       "      <td>-1.1</td>\n",
       "      <td>94.767</td>\n",
       "      <td>-50.8</td>\n",
       "      <td>1.028</td>\n",
       "      <td>4963.6</td>\n",
       "      <td>0</td>\n",
       "    </tr>\n",
       "    <tr>\n",
       "      <th>41185</th>\n",
       "      <td>5</td>\n",
       "      <td>5</td>\n",
       "      <td>1</td>\n",
       "      <td>6</td>\n",
       "      <td>2</td>\n",
       "      <td>0</td>\n",
       "      <td>2</td>\n",
       "      <td>0</td>\n",
       "      <td>7</td>\n",
       "      <td>0</td>\n",
       "      <td>...</td>\n",
       "      <td>2</td>\n",
       "      <td>999</td>\n",
       "      <td>0</td>\n",
       "      <td>0</td>\n",
       "      <td>-1.1</td>\n",
       "      <td>94.767</td>\n",
       "      <td>-50.8</td>\n",
       "      <td>1.028</td>\n",
       "      <td>4963.6</td>\n",
       "      <td>0</td>\n",
       "    </tr>\n",
       "    <tr>\n",
       "      <th>41186</th>\n",
       "      <td>4</td>\n",
       "      <td>9</td>\n",
       "      <td>1</td>\n",
       "      <td>5</td>\n",
       "      <td>2</td>\n",
       "      <td>2</td>\n",
       "      <td>2</td>\n",
       "      <td>0</td>\n",
       "      <td>7</td>\n",
       "      <td>0</td>\n",
       "      <td>...</td>\n",
       "      <td>1</td>\n",
       "      <td>999</td>\n",
       "      <td>0</td>\n",
       "      <td>0</td>\n",
       "      <td>-1.1</td>\n",
       "      <td>94.767</td>\n",
       "      <td>-50.8</td>\n",
       "      <td>1.028</td>\n",
       "      <td>4963.6</td>\n",
       "      <td>1</td>\n",
       "    </tr>\n",
       "  </tbody>\n",
       "</table>\n",
       "<p>40714 rows × 21 columns</p>\n",
       "</div>"
      ],
      "text/plain": [
       "      age  job  marital  education  default  housing  loan  contact  month  \\\n",
       "0       5    3        1          0        2        2     2        1      6   \n",
       "1       5    7        1          3        1        2     2        1      6   \n",
       "2       3    7        1          3        2        0     2        1      6   \n",
       "3       4    0        1          1        2        2     2        1      6   \n",
       "4       5    7        1          3        2        2     0        1      6   \n",
       "...    ..  ...      ...        ...      ...      ...   ...      ...    ...   \n",
       "41181   3    0        1          6        2        0     2        0      7   \n",
       "41182   2   10        2          0        2        0     2        0      7   \n",
       "41184   4    1        1          5        2        2     2        0      7   \n",
       "41185   5    5        1          6        2        0     2        0      7   \n",
       "41186   4    9        1          5        2        2     2        0      7   \n",
       "\n",
       "       day_of_week  ...  campaign  pdays  previous  poutcome  emp.var.rate  \\\n",
       "0                1  ...         1    999         0         0           1.1   \n",
       "1                1  ...         1    999         0         0           1.1   \n",
       "2                1  ...         1    999         0         0           1.1   \n",
       "3                1  ...         1    999         0         0           1.1   \n",
       "4                1  ...         1    999         0         0           1.1   \n",
       "...            ...  ...       ...    ...       ...       ...           ...   \n",
       "41181            0  ...         1    999         0         0          -1.1   \n",
       "41182            0  ...         1      9         1         1          -1.1   \n",
       "41184            0  ...         1    999         0         0          -1.1   \n",
       "41185            0  ...         2    999         0         0          -1.1   \n",
       "41186            0  ...         1    999         0         0          -1.1   \n",
       "\n",
       "       cons.price.idx  cons.conf.idx  euribor3m  nr.employed  y  \n",
       "0              93.994          -36.4      4.857       5191.0  0  \n",
       "1              93.994          -36.4      4.857       5191.0  0  \n",
       "2              93.994          -36.4      4.857       5191.0  0  \n",
       "3              93.994          -36.4      4.857       5191.0  0  \n",
       "4              93.994          -36.4      4.857       5191.0  0  \n",
       "...               ...            ...        ...          ... ..  \n",
       "41181          94.767          -50.8      1.028       4963.6  1  \n",
       "41182          94.767          -50.8      1.028       4963.6  0  \n",
       "41184          94.767          -50.8      1.028       4963.6  0  \n",
       "41185          94.767          -50.8      1.028       4963.6  0  \n",
       "41186          94.767          -50.8      1.028       4963.6  1  \n",
       "\n",
       "[40714 rows x 21 columns]"
      ]
     },
     "execution_count": 3,
     "metadata": {},
     "output_type": "execute_result"
    }
   ],
   "source": [
    "# Uso de pkl para cargar resultados de preprocesamiento\n",
    "carpeta_actual = os.getcwd()\n",
    "\n",
    "directorio = os.path.dirname(carpeta_actual)\n",
    "ruta_archivo = os.path.join(directorio, 'preprocessing','resultado_df.pkl')\n",
    "\n",
    "df=pickle.load(open(ruta_archivo, \"rb\"))\n",
    "df"
   ]
  },
  {
   "cell_type": "code",
   "execution_count": 4,
   "metadata": {},
   "outputs": [],
   "source": [
    "X = df.drop('y',axis=1)\n",
    "y = df['y']"
   ]
  },
  {
   "cell_type": "code",
   "execution_count": 5,
   "metadata": {},
   "outputs": [],
   "source": [
    "from imblearn.under_sampling import NearMiss"
   ]
  },
  {
   "cell_type": "code",
   "execution_count": 6,
   "metadata": {},
   "outputs": [
    {
     "data": {
      "text/plain": [
       "(40714, 20)"
      ]
     },
     "execution_count": 6,
     "metadata": {},
     "output_type": "execute_result"
    }
   ],
   "source": [
    "X.shape"
   ]
  },
  {
   "cell_type": "code",
   "execution_count": 6,
   "metadata": {},
   "outputs": [
    {
     "data": {
      "text/plain": [
       "0    4417\n",
       "1    4417\n",
       "Name: y, dtype: int64"
      ]
     },
     "execution_count": 6,
     "metadata": {},
     "output_type": "execute_result"
    }
   ],
   "source": [
    "sm =NearMiss(version=2)\n",
    "X_res , Y_res = sm.fit_resample(X,y)\n",
    "pd.Series(Y_res).value_counts()"
   ]
  },
  {
   "cell_type": "code",
   "execution_count": 7,
   "metadata": {},
   "outputs": [],
   "source": [
    "from sklearn.metrics import accuracy_score\n",
    "from sklearn.metrics import f1_score\n",
    "from sklearn.svm import SVC\n",
    "from sklearn.preprocessing import StandardScaler\n",
    "import optuna\n",
    "from sklearn.linear_model import LogisticRegression\n",
    "\n",
    "\n",
    "X_train , X_test , y_train , y_test = train_test_split(X_res, Y_res, test_size = 0.2, random_state = 10)\n",
    "\n",
    "# Escalar las características\n",
    "scaler = StandardScaler()\n",
    "X_train = scaler.fit_transform(X_train)\n",
    "X_test = scaler.transform(X_test)\n"
   ]
  },
  {
   "attachments": {},
   "cell_type": "markdown",
   "metadata": {},
   "source": [
    "### Modelo Inicial"
   ]
  },
  {
   "cell_type": "code",
   "execution_count": 9,
   "metadata": {},
   "outputs": [
    {
     "name": "stdout",
     "output_type": "stream",
     "text": [
      "0.8903694730466385\n"
     ]
    }
   ],
   "source": [
    "model_inicial = LogisticRegression().fit(X_train, y_train.ravel())\n",
    "y_pred_inicial = model_inicial.predict(X_test)\n",
    "print(f1_score(y_test, y_pred_inicial))"
   ]
  },
  {
   "attachments": {},
   "cell_type": "markdown",
   "metadata": {},
   "source": [
    "### Optimización OPTUNA"
   ]
  },
  {
   "cell_type": "code",
   "execution_count": 17,
   "metadata": {},
   "outputs": [
    {
     "name": "stderr",
     "output_type": "stream",
     "text": [
      "[I 2023-06-20 21:56:00,085] A new study created in RDB with name: RegLog\n",
      "[I 2023-06-20 21:56:00,781] Trial 2 finished with value: 0.8884848484848484 and parameters: {'C': 0.8860195221711518}. Best is trial 1 with value: 0.8906344410876134.\n",
      "[I 2023-06-20 21:56:00,845] Trial 1 finished with value: 0.8906344410876134 and parameters: {'C': 1.9703640591526548}. Best is trial 1 with value: 0.8906344410876134.\n",
      "[I 2023-06-20 21:56:00,973] Trial 7 finished with value: 0.8702570379436965 and parameters: {'C': 0.060181495450063655}. Best is trial 1 with value: 0.8906344410876134.\n",
      "[I 2023-06-20 21:56:01,027] Trial 3 finished with value: 0.8903694730466385 and parameters: {'C': 1.0967442438125559}. Best is trial 1 with value: 0.8906344410876134.\n",
      "[I 2023-06-20 21:56:01,035] Trial 5 finished with value: 0.8819951338199513 and parameters: {'C': 0.34680752258839076}. Best is trial 1 with value: 0.8906344410876134.\n",
      "[I 2023-06-20 21:56:01,058] Trial 6 finished with value: 0.8903694730466385 and parameters: {'C': 1.1226969633635362}. Best is trial 1 with value: 0.8906344410876134.\n",
      "[I 2023-06-20 21:56:01,091] Trial 4 finished with value: 0.8651960784313726 and parameters: {'C': 0.023721682796670786}. Best is trial 1 with value: 0.8906344410876134.\n",
      "[I 2023-06-20 21:56:01,108] Trial 0 finished with value: 0.8899637243047158 and parameters: {'C': 1.886861434473403}. Best is trial 1 with value: 0.8906344410876134.\n",
      "[I 2023-06-20 21:56:01,599] Trial 11 finished with value: 0.8903694730466385 and parameters: {'C': 3.8012799680395206}. Best is trial 1 with value: 0.8906344410876134.\n",
      "[I 2023-06-20 21:56:01,639] Trial 8 finished with value: 0.8864602307225259 and parameters: {'C': 0.634463110164013}. Best is trial 1 with value: 0.8906344410876134.\n",
      "[I 2023-06-20 21:56:01,817] Trial 9 finished with value: 0.8884848484848484 and parameters: {'C': 0.9045603536036532}. Best is trial 1 with value: 0.8906344410876134.\n",
      "[I 2023-06-20 21:56:01,822] Trial 12 finished with value: 0.8589032655576094 and parameters: {'C': 0.01262649607933183}. Best is trial 1 with value: 0.8906344410876134.\n",
      "[I 2023-06-20 21:56:01,828] Trial 13 finished with value: 0.8702570379436965 and parameters: {'C': 0.06326479319134472}. Best is trial 1 with value: 0.8906344410876134.\n",
      "[I 2023-06-20 21:56:01,870] Trial 10 finished with value: 0.8878107944208612 and parameters: {'C': 0.8425094767103996}. Best is trial 1 with value: 0.8906344410876134.\n",
      "[I 2023-06-20 21:56:01,909] Trial 14 finished with value: 0.8903694730466385 and parameters: {'C': 8.134799714271693}. Best is trial 1 with value: 0.8906344410876134.\n",
      "[I 2023-06-20 21:56:01,970] Trial 15 finished with value: 0.8898305084745762 and parameters: {'C': 9.464910304221155}. Best is trial 1 with value: 0.8906344410876134.\n",
      "[I 2023-06-20 21:56:02,343] Trial 16 finished with value: 0.8906344410876134 and parameters: {'C': 2.705053027357629}. Best is trial 1 with value: 0.8906344410876134.\n",
      "[I 2023-06-20 21:56:02,426] Trial 17 finished with value: 0.8906344410876134 and parameters: {'C': 2.112754019883617}. Best is trial 1 with value: 0.8906344410876134.\n",
      "[I 2023-06-20 21:56:02,594] Trial 23 finished with value: 0.891041162227603 and parameters: {'C': 3.4556843333849123}. Best is trial 19 with value: 0.8911729141475212.\n",
      "[I 2023-06-20 21:56:02,605] Trial 20 finished with value: 0.891041162227603 and parameters: {'C': 3.4402567691952965}. Best is trial 19 with value: 0.8911729141475212.\n",
      "[I 2023-06-20 21:56:02,660] Trial 18 finished with value: 0.8905021173623714 and parameters: {'C': 3.0144777797646474}. Best is trial 19 with value: 0.8911729141475212.\n",
      "[I 2023-06-20 21:56:02,711] Trial 19 finished with value: 0.8911729141475212 and parameters: {'C': 2.979728216900544}. Best is trial 19 with value: 0.8911729141475212.\n",
      "[I 2023-06-20 21:56:02,775] Trial 22 finished with value: 0.891041162227603 and parameters: {'C': 3.677313223413335}. Best is trial 19 with value: 0.8911729141475212.\n",
      "[I 2023-06-20 21:56:03,211] Trial 24 finished with value: 0.8903694730466385 and parameters: {'C': 5.343714377741982}. Best is trial 19 with value: 0.8911729141475212.\n",
      "[I 2023-06-20 21:56:03,240] Trial 21 finished with value: 0.8903694730466385 and parameters: {'C': 5.446403596682544}. Best is trial 19 with value: 0.8911729141475212.\n",
      "[I 2023-06-20 21:56:03,412] Trial 28 finished with value: 0.8903694730466385 and parameters: {'C': 5.5063329695411785}. Best is trial 19 with value: 0.8911729141475212.\n",
      "[I 2023-06-20 21:56:03,417] Trial 30 finished with value: 0.8903694730466385 and parameters: {'C': 5.768787750019316}. Best is trial 19 with value: 0.8911729141475212.\n",
      "[I 2023-06-20 21:56:03,523] Trial 27 finished with value: 0.8903694730466385 and parameters: {'C': 5.39668496593311}. Best is trial 19 with value: 0.8911729141475212.\n",
      "[I 2023-06-20 21:56:03,696] Trial 32 finished with value: 0.8898305084745762 and parameters: {'C': 9.588625939065142}. Best is trial 19 with value: 0.8911729141475212.\n",
      "[I 2023-06-20 21:56:03,707] Trial 29 finished with value: 0.8898305084745762 and parameters: {'C': 9.820088962461064}. Best is trial 19 with value: 0.8911729141475212.\n",
      "[I 2023-06-20 21:56:03,724] Trial 26 finished with value: 0.8903694730466385 and parameters: {'C': 6.136108595119172}. Best is trial 19 with value: 0.8911729141475212.\n",
      "[I 2023-06-20 21:56:03,746] Trial 25 finished with value: 0.8903694730466385 and parameters: {'C': 5.660389855772896}. Best is trial 19 with value: 0.8911729141475212.\n",
      "[I 2023-06-20 21:56:03,973] Trial 31 finished with value: 0.8899637243047158 and parameters: {'C': 1.6278866672831067}. Best is trial 19 with value: 0.8911729141475212.\n",
      "[I 2023-06-20 21:56:04,106] Trial 33 finished with value: 0.8899637243047158 and parameters: {'C': 1.785927492451771}. Best is trial 19 with value: 0.8911729141475212.\n",
      "[I 2023-06-20 21:56:04,119] Trial 35 finished with value: 0.8899637243047158 and parameters: {'C': 1.8455887853789257}. Best is trial 19 with value: 0.8911729141475212.\n",
      "[I 2023-06-20 21:56:04,404] Trial 34 finished with value: 0.891041162227603 and parameters: {'C': 3.453735841650218}. Best is trial 19 with value: 0.8911729141475212.\n",
      "[I 2023-06-20 21:56:04,578] Trial 39 finished with value: 0.891041162227603 and parameters: {'C': 3.5163968189326567}. Best is trial 19 with value: 0.8911729141475212.\n",
      "[I 2023-06-20 21:56:04,617] Trial 36 finished with value: 0.891041162227603 and parameters: {'C': 3.1626857015831606}. Best is trial 19 with value: 0.8911729141475212.\n",
      "[I 2023-06-20 21:56:04,726] Trial 37 finished with value: 0.891041162227603 and parameters: {'C': 3.1593268564055523}. Best is trial 19 with value: 0.8911729141475212.\n",
      "[I 2023-06-20 21:56:04,729] Trial 40 finished with value: 0.891041162227603 and parameters: {'C': 3.2198312645356153}. Best is trial 19 with value: 0.8911729141475212.\n",
      "[I 2023-06-20 21:56:04,748] Trial 38 finished with value: 0.891041162227603 and parameters: {'C': 3.3666494962855698}. Best is trial 19 with value: 0.8911729141475212.\n",
      "[I 2023-06-20 21:56:04,915] Trial 42 finished with value: 0.8899637243047158 and parameters: {'C': 1.4954071346477176}. Best is trial 19 with value: 0.8911729141475212.\n",
      "[I 2023-06-20 21:56:05,068] Trial 41 finished with value: 0.891041162227603 and parameters: {'C': 3.447668252667412}. Best is trial 19 with value: 0.8911729141475212.\n",
      "[I 2023-06-20 21:56:05,271] Trial 45 finished with value: 0.8906344410876134 and parameters: {'C': 2.274700153347624}. Best is trial 19 with value: 0.8911729141475212.\n",
      "[I 2023-06-20 21:56:05,284] Trial 44 finished with value: 0.8896969696969697 and parameters: {'C': 1.2231416040122445}. Best is trial 19 with value: 0.8911729141475212.\n",
      "[I 2023-06-20 21:56:05,318] Trial 43 finished with value: 0.8898305084745762 and parameters: {'C': 1.409412814101514}. Best is trial 19 with value: 0.8911729141475212.\n",
      "[I 2023-06-20 21:56:05,393] Trial 46 finished with value: 0.8906344410876134 and parameters: {'C': 2.103626755649588}. Best is trial 19 with value: 0.8911729141475212.\n",
      "[I 2023-06-20 21:56:05,595] Trial 48 finished with value: 0.8906344410876134 and parameters: {'C': 2.2237484497931943}. Best is trial 19 with value: 0.8911729141475212.\n",
      "[I 2023-06-20 21:56:05,678] Trial 49 finished with value: 0.8906344410876134 and parameters: {'C': 2.3208782043967977}. Best is trial 19 with value: 0.8911729141475212.\n",
      "[I 2023-06-20 21:56:05,838] Trial 50 finished with value: 0.8851063829787235 and parameters: {'C': 0.6032973195030694}. Best is trial 19 with value: 0.8911729141475212.\n",
      "[I 2023-06-20 21:56:05,847] Trial 47 finished with value: 0.8906344410876134 and parameters: {'C': 2.2628115206055166}. Best is trial 19 with value: 0.8911729141475212.\n",
      "[I 2023-06-20 21:56:06,077] Trial 51 finished with value: 0.8864602307225259 and parameters: {'C': 0.6163494773875308}. Best is trial 19 with value: 0.8911729141475212.\n",
      "[I 2023-06-20 21:56:06,242] Trial 55 finished with value: 0.8903694730466385 and parameters: {'C': 4.308351329795788}. Best is trial 19 with value: 0.8911729141475212.\n",
      "[I 2023-06-20 21:56:06,339] Trial 52 finished with value: 0.8903694730466385 and parameters: {'C': 4.409398881093972}. Best is trial 19 with value: 0.8911729141475212.\n",
      "[I 2023-06-20 21:56:06,371] Trial 54 finished with value: 0.8903694730466385 and parameters: {'C': 4.271001484203603}. Best is trial 19 with value: 0.8911729141475212.\n",
      "[I 2023-06-20 21:56:06,379] Trial 53 finished with value: 0.8903694730466385 and parameters: {'C': 4.274325717664068}. Best is trial 19 with value: 0.8911729141475212.\n",
      "[I 2023-06-20 21:56:06,586] Trial 57 finished with value: 0.8903694730466385 and parameters: {'C': 7.524122189050554}. Best is trial 19 with value: 0.8911729141475212.\n",
      "[I 2023-06-20 21:56:06,589] Trial 56 finished with value: 0.8903694730466385 and parameters: {'C': 3.898029663465992}. Best is trial 19 with value: 0.8911729141475212.\n",
      "[I 2023-06-20 21:56:06,619] Trial 59 finished with value: 0.8903694730466385 and parameters: {'C': 7.176479872414539}. Best is trial 19 with value: 0.8911729141475212.\n",
      "[I 2023-06-20 21:56:06,621] Trial 58 finished with value: 0.8903694730466385 and parameters: {'C': 7.388881957057394}. Best is trial 19 with value: 0.8911729141475212.\n",
      "[I 2023-06-20 21:56:06,974] Trial 60 finished with value: 0.8906344410876134 and parameters: {'C': 2.6688601189688126}. Best is trial 19 with value: 0.8911729141475212.\n",
      "[I 2023-06-20 21:56:07,067] Trial 61 finished with value: 0.8906344410876134 and parameters: {'C': 2.918562027210898}. Best is trial 19 with value: 0.8911729141475212.\n",
      "[I 2023-06-20 21:56:07,243] Trial 66 finished with value: 0.8906344410876134 and parameters: {'C': 2.7664036281351017}. Best is trial 19 with value: 0.8911729141475212.\n",
      "[I 2023-06-20 21:56:07,297] Trial 62 finished with value: 0.8906344410876134 and parameters: {'C': 2.5552259753387876}. Best is trial 19 with value: 0.8911729141475212.\n",
      "[I 2023-06-20 21:56:07,405] Trial 64 finished with value: 0.8906344410876134 and parameters: {'C': 2.7507172988197217}. Best is trial 19 with value: 0.8911729141475212.\n",
      "[I 2023-06-20 21:56:07,407] Trial 63 finished with value: 0.8906344410876134 and parameters: {'C': 2.870575968085156}. Best is trial 19 with value: 0.8911729141475212.\n",
      "[I 2023-06-20 21:56:07,518] Trial 65 finished with value: 0.8905021173623714 and parameters: {'C': 3.04195931276814}. Best is trial 19 with value: 0.8911729141475212.\n",
      "[I 2023-06-20 21:56:07,520] Trial 67 finished with value: 0.8906344410876134 and parameters: {'C': 2.829392761034418}. Best is trial 19 with value: 0.8911729141475212.\n",
      "[I 2023-06-20 21:56:07,618] Trial 68 finished with value: 0.8903694730466385 and parameters: {'C': 1.1147599933822612}. Best is trial 19 with value: 0.8911729141475212.\n",
      "[I 2023-06-20 21:56:07,800] Trial 69 finished with value: 0.8899637243047158 and parameters: {'C': 1.7851751782595409}. Best is trial 19 with value: 0.8911729141475212.\n",
      "[I 2023-06-20 21:56:08,087] Trial 70 finished with value: 0.8903694730466385 and parameters: {'C': 4.745037220751799}. Best is trial 19 with value: 0.8911729141475212.\n",
      "[I 2023-06-20 21:56:08,120] Trial 72 finished with value: 0.8899637243047158 and parameters: {'C': 1.730995556863181}. Best is trial 19 with value: 0.8911729141475212.\n",
      "[I 2023-06-20 21:56:08,163] Trial 71 finished with value: 0.8903694730466385 and parameters: {'C': 5.153349730586752}. Best is trial 19 with value: 0.8911729141475212.\n",
      "[I 2023-06-20 21:56:08,246] Trial 74 finished with value: 0.8903694730466385 and parameters: {'C': 4.806847820814431}. Best is trial 19 with value: 0.8911729141475212.\n",
      "[I 2023-06-20 21:56:08,324] Trial 75 finished with value: 0.8903694730466385 and parameters: {'C': 5.044598654270616}. Best is trial 19 with value: 0.8911729141475212.\n",
      "[I 2023-06-20 21:56:08,339] Trial 73 finished with value: 0.8903694730466385 and parameters: {'C': 4.563466567184123}. Best is trial 19 with value: 0.8911729141475212.\n",
      "[I 2023-06-20 21:56:08,560] Trial 77 finished with value: 0.891041162227603 and parameters: {'C': 3.6764158679084002}. Best is trial 19 with value: 0.8911729141475212.\n",
      "[I 2023-06-20 21:56:08,662] Trial 76 finished with value: 0.891041162227603 and parameters: {'C': 3.723676592120559}. Best is trial 19 with value: 0.8911729141475212.\n",
      "[I 2023-06-20 21:56:08,816] Trial 78 finished with value: 0.8903694730466385 and parameters: {'C': 6.541763956601169}. Best is trial 19 with value: 0.8911729141475212.\n",
      "[I 2023-06-20 21:56:08,874] Trial 82 finished with value: 0.8903694730466385 and parameters: {'C': 6.306567281978425}. Best is trial 19 with value: 0.8911729141475212.\n",
      "[I 2023-06-20 21:56:08,982] Trial 81 finished with value: 0.8903694730466385 and parameters: {'C': 6.231566273578445}. Best is trial 19 with value: 0.8911729141475212.\n",
      "[I 2023-06-20 21:56:09,033] Trial 79 finished with value: 0.8903694730466385 and parameters: {'C': 6.617106194259089}. Best is trial 19 with value: 0.8911729141475212.\n",
      "[I 2023-06-20 21:56:09,169] Trial 83 finished with value: 0.891041162227603 and parameters: {'C': 3.379670251551073}. Best is trial 19 with value: 0.8911729141475212.\n",
      "[I 2023-06-20 21:56:09,232] Trial 80 finished with value: 0.891041162227603 and parameters: {'C': 3.3778491138209414}. Best is trial 19 with value: 0.8911729141475212.\n",
      "[I 2023-06-20 21:56:09,490] Trial 89 finished with value: 0.891041162227603 and parameters: {'C': 3.614602310668256}. Best is trial 19 with value: 0.8911729141475212.\n",
      "[I 2023-06-20 21:56:09,581] Trial 84 finished with value: 0.891041162227603 and parameters: {'C': 3.3858961615920617}. Best is trial 19 with value: 0.8911729141475212.\n",
      "[I 2023-06-20 21:56:09,693] Trial 85 finished with value: 0.8903694730466385 and parameters: {'C': 3.797586434686181}. Best is trial 19 with value: 0.8911729141475212.\n",
      "[I 2023-06-20 21:56:09,727] Trial 88 finished with value: 0.8898305084745762 and parameters: {'C': 1.4002997413316625}. Best is trial 19 with value: 0.8911729141475212.\n",
      "[I 2023-06-20 21:56:09,851] Trial 87 finished with value: 0.8906344410876134 and parameters: {'C': 1.9839636847682265}. Best is trial 19 with value: 0.8911729141475212.\n",
      "[I 2023-06-20 21:56:10,023] Trial 86 finished with value: 0.8906344410876134 and parameters: {'C': 2.0373250012009994}. Best is trial 19 with value: 0.8911729141475212.\n",
      "[I 2023-06-20 21:56:10,025] Trial 90 finished with value: 0.8906344410876134 and parameters: {'C': 2.1374518862525953}. Best is trial 19 with value: 0.8911729141475212.\n",
      "[I 2023-06-20 21:56:10,197] Trial 92 finished with value: 0.8903694730466385 and parameters: {'C': 8.455451631670504}. Best is trial 19 with value: 0.8911729141475212.\n",
      "[I 2023-06-20 21:56:10,443] Trial 91 finished with value: 0.8903694730466385 and parameters: {'C': 8.192488750508243}. Best is trial 19 with value: 0.8911729141475212.\n",
      "[I 2023-06-20 21:56:10,535] Trial 94 finished with value: 0.8903694730466385 and parameters: {'C': 8.491421024365149}. Best is trial 19 with value: 0.8911729141475212.\n",
      "[I 2023-06-20 21:56:10,544] Trial 93 finished with value: 0.8906344410876134 and parameters: {'C': 2.3105449089825676}. Best is trial 19 with value: 0.8911729141475212.\n",
      "[I 2023-06-20 21:56:10,554] Trial 95 finished with value: 0.8906344410876134 and parameters: {'C': 2.4064677744311305}. Best is trial 19 with value: 0.8911729141475212.\n",
      "[I 2023-06-20 21:56:10,689] Trial 96 finished with value: 0.8906344410876134 and parameters: {'C': 2.6005965511203937}. Best is trial 19 with value: 0.8911729141475212.\n",
      "[I 2023-06-20 21:56:10,704] Trial 97 finished with value: 0.8903694730466385 and parameters: {'C': 4.412129874052276}. Best is trial 19 with value: 0.8911729141475212.\n",
      "[I 2023-06-20 21:56:10,717] Trial 99 finished with value: 0.8903694730466385 and parameters: {'C': 4.154630059474669}. Best is trial 19 with value: 0.8911729141475212.\n",
      "[I 2023-06-20 21:56:10,755] Trial 98 finished with value: 0.891041162227603 and parameters: {'C': 3.1515904097243936}. Best is trial 19 with value: 0.8911729141475212.\n"
     ]
    }
   ],
   "source": [
    "\n",
    "def objective(trial):\n",
    "    gamma = trial.suggest_float(\"gamma\", 0.01, 10, log=True)\n",
    "    c = trial.suggest_float(\"C\", 0.01, 10, log=True)\n",
    "    kernel = trial.suggest_categorical(\"kernel\", [\"rbf\", \"poly\", \"linear\"])\n",
    "    model = SVC(C=c, kernel=kernel, gamma=gamma).fit(X_train, y_train.ravel())\n",
    "    y_pred = model.predict(X_test)\n",
    "    score = accuracy_score(y_test, y_pred)\n",
    "    return score\n",
    "\n",
    "def objective_lr(trial):\n",
    "    # Definir los hiperparámetros a optimizar\n",
    "    C = trial.suggest_loguniform('C', 0.01, 10.0)\n",
    "\n",
    "    # Crear una instancia del clasificador Regresión Logística con los hiperparámetros sugeridos por Optuna\n",
    "    logistic_regression = LogisticRegression(C=C)\n",
    "\n",
    "    # Entrenar el modelo de Regresión Logística\n",
    "    logistic_regression.fit(X_train, y_train)\n",
    "\n",
    "    # Realizar predicciones en el conjunto de prueba\n",
    "    y_pred = logistic_regression.predict(X_test)\n",
    "\n",
    "    # Calcular la precisión\n",
    "    f1 = f1_score(y_test, y_pred)\n",
    "\n",
    "    return f1\n",
    "\n",
    "# Crear un estudio de Optuna y ejecutar la optimización de hiperparámetros\n",
    "study = optuna.create_study(\n",
    "    direction=\"maximize\",\n",
    "    storage=\"sqlite:///hp.db\",\n",
    "    study_name=\"RegLog\",\n",
    "    )\n",
    "study.optimize(objective_lr, n_trials=100, n_jobs=-1)\n"
   ]
  },
  {
   "cell_type": "code",
   "execution_count": 18,
   "metadata": {},
   "outputs": [
    {
     "name": "stdout",
     "output_type": "stream",
     "text": [
      "Mejores hiperparámetros encontrados:\n",
      "{'C': 2.979728216900544}\n",
      "Precisión (accuracy) correspondiente:\n",
      "0.8911729141475212\n"
     ]
    }
   ],
   "source": [
    "# Obtener los mejores hiperparámetros encontrados\n",
    "best_params = study.best_params\n",
    "best_accuracy = study.best_value\n",
    "\n",
    "print(\"Mejores hiperparámetros encontrados:\")\n",
    "print(best_params)\n",
    "print(\"Precisión (accuracy) correspondiente:\")\n",
    "print(best_accuracy)"
   ]
  },
  {
   "cell_type": "code",
   "execution_count": 19,
   "metadata": {},
   "outputs": [],
   "source": [
    "from sklearn.linear_model import LogisticRegression\n",
    "model = LogisticRegression(**best_params).fit(X_train, y_train.ravel())"
   ]
  },
  {
   "cell_type": "code",
   "execution_count": 26,
   "metadata": {},
   "outputs": [],
   "source": [
    "pred_BestParams=model.predict(X_test)"
   ]
  },
  {
   "cell_type": "code",
   "execution_count": 32,
   "metadata": {},
   "outputs": [
    {
     "name": "stdout",
     "output_type": "stream",
     "text": [
      "accuracy_score: 89.81%\n"
     ]
    }
   ],
   "source": [
    "print(\"accuracy_score: {:.2f}%\".format(accuracy_score(y_test,pred_BestParams)*100) )"
   ]
  },
  {
   "cell_type": "code",
   "execution_count": 35,
   "metadata": {},
   "outputs": [
    {
     "name": "stdout",
     "output_type": "stream",
     "text": [
      "f1_score: 89.12%\n"
     ]
    }
   ],
   "source": [
    "print(\"f1_score: {:.2f}%\".format(f1_score(y_test,pred_BestParams)*100) )"
   ]
  },
  {
   "cell_type": "code",
   "execution_count": 36,
   "metadata": {},
   "outputs": [
    {
     "name": "stdout",
     "output_type": "stream",
     "text": [
      "recall: 86.71%\n"
     ]
    }
   ],
   "source": [
    "from sklearn.metrics import recall_score\n",
    "print(\"recall: {:.2f}%\".format(recall_score(y_test,pred_BestParams)*100) )"
   ]
  },
  {
   "cell_type": "code",
   "execution_count": 34,
   "metadata": {},
   "outputs": [
    {
     "data": {
      "image/png": "[encoded data removed]",
      "text/plain": [
       "<Figure size 800x600 with 1 Axes>"
      ]
     },
     "metadata": {},
     "output_type": "display_data"
    }
   ],
   "source": [
    "import matplotlib.pyplot as plt\n",
    "import seaborn as sns\n",
    "from sklearn.metrics import confusion_matrix\n",
    "from sklearn.metrics import ConfusionMatrixDisplay\n",
    "\n",
    "def Matriz_Confusion(y_pred):\n",
    "    sns.set(font_scale=1)\n",
    "    cm = confusion_matrix(y_test, y_pred)\n",
    "\n",
    "    fig, ax = plt.subplots(figsize=(8, 6))\n",
    "    sns.heatmap(cm, annot=True, fmt='d', cmap='YlOrBr', cbar=False, ax=ax)  \n",
    "    ax.set_xlabel('Predicted Label')\n",
    "    ax.set_ylabel('True Label')\n",
    "    \n",
    "    ax.set_title('Confusion Matrix')\n",
    "\n",
    "    plt.show()\n",
    "\n",
    "Matriz_Confusion(pred_BestParams)"
   ]
  },
  {
   "attachments": {},
   "cell_type": "markdown",
   "metadata": {},
   "source": [
    "### Optimización GridSearch"
   ]
  },
  {
   "cell_type": "code",
   "execution_count": 9,
   "metadata": {},
   "outputs": [],
   "source": [
    "from sklearn.model_selection import train_test_split\n",
    "from sklearn.ensemble import RandomForestClassifier\n",
    "from sklearn.tree import DecisionTreeClassifier\n",
    "\n",
    "from sklearn.decomposition import PCA\n",
    "\n",
    "from sklearn.pipeline import make_pipeline\n",
    "from sklearn.ensemble import RandomForestRegressor\n",
    "from sklearn.model_selection import GridSearchCV\n",
    "from sklearn.svm import SVC\n",
    "from sklearn.metrics import make_scorer\n",
    "\n",
    "g_rf=GridSearchCV(estimator=RandomForestClassifier(random_state=42),\n",
    "                  \n",
    "                  #Parametros\n",
    "                  param_grid = {\n",
    "                              'max_features': [3,4,5,6],\n",
    "                              'n_estimators': [50,100,200,250 ,300,350],\n",
    "                              'criterion':('gini','entropy')\n",
    "                          },                 \n",
    "                  #Metrica\n",
    "                  scoring='accuracy',\n",
    "\n",
    "                  # Numero de grupos para cv\n",
    "                  cv=5,\n",
    "                  \n",
    "                  n_jobs=-1                  \n",
    "                  )"
   ]
  },
  {
   "cell_type": "code",
   "execution_count": 10,
   "metadata": {},
   "outputs": [],
   "source": [
    "gs_rf=g_rf.fit(X_train, y_train)"
   ]
  },
  {
   "cell_type": "code",
   "execution_count": 11,
   "metadata": {},
   "outputs": [
    {
     "data": {
      "text/plain": [
       "{'criterion': 'entropy', 'max_features': 3, 'n_estimators': 100}"
      ]
     },
     "execution_count": 11,
     "metadata": {},
     "output_type": "execute_result"
    }
   ],
   "source": [
    "gs_rf.best_params_"
   ]
  },
  {
   "cell_type": "code",
   "execution_count": 12,
   "metadata": {},
   "outputs": [
    {
     "data": {
      "text/plain": [
       "RandomForestClassifier(criterion='entropy', max_features=5, n_estimators=200,\n",
       "                       random_state=42)"
      ]
     },
     "execution_count": 12,
     "metadata": {},
     "output_type": "execute_result"
    }
   ],
   "source": [
    "model_rf_GSearch = RandomForestClassifier(random_state=42, n_estimators=200, max_features=5,criterion='entropy')\n",
    "model_rf_GSearch.fit(X_train, y_train)"
   ]
  },
  {
   "cell_type": "code",
   "execution_count": 14,
   "metadata": {},
   "outputs": [
    {
     "name": "stdout",
     "output_type": "stream",
     "text": [
      "Accuracy training tunning: 88.35%\n"
     ]
    }
   ],
   "source": [
    "#Accuracy\n",
    "print(\"Accuracy training tunning: {:.2f}%\".format(gs_rf.best_score_ *100))"
   ]
  },
  {
   "cell_type": "code",
   "execution_count": 16,
   "metadata": {},
   "outputs": [
    {
     "name": "stdout",
     "output_type": "stream",
     "text": [
      "accuracy_score testing tuning: 90.66%\n",
      "F1_Score testing tuning: 90.13%\n",
      "Recall_Score testing tuning: 88.59%\n"
     ]
    }
   ],
   "source": [
    "from sklearn.metrics import f1_score, accuracy_score,recall_score\n",
    "\n",
    "y_test_gridRF=model_rf_GSearch.predict(X_test) \n",
    "\n",
    "print(\"accuracy_score testing tuning: {:.2f}%\".format(accuracy_score(y_test,y_test_gridRF)*100) )\n",
    "print(\"F1_Score testing tuning: {:.2f}%\".format(f1_score(y_test,y_test_gridRF)*100) )\n",
    "print(\"Recall_Score testing tuning: {:.2f}%\".format(recall_score(y_test,y_test_gridRF)*100) )"
   ]
  },
  {
   "cell_type": "code",
   "execution_count": 47,
   "metadata": {},
   "outputs": [
    {
     "data": {
      "image/png": "[encoded data removed]",
      "text/plain": [
       "<Figure size 800x600 with 1 Axes>"
      ]
     },
     "metadata": {},
     "output_type": "display_data"
    }
   ],
   "source": [
    "import matplotlib.pyplot as plt\n",
    "import seaborn as sns\n",
    "from sklearn.metrics import confusion_matrix\n",
    "from sklearn.metrics import ConfusionMatrixDisplay\n",
    "\n",
    "def Matriz_Confusion(y_pred):\n",
    "    sns.set(font_scale=1)\n",
    "    cm = confusion_matrix(y_test, y_pred)\n",
    "\n",
    "    fig, ax = plt.subplots(figsize=(8, 6))\n",
    "    sns.heatmap(cm, annot=True, fmt='d', cmap='YlOrBr', cbar=False, ax=ax)  # Usar 'fmt=d' para mostrar números sin notación científica\n",
    "    ax.set_xlabel('Predicted Label')\n",
    "    ax.set_ylabel('True Label')\n",
    "    ax.set_title('Confusion Matrix')\n",
    "\n",
    "    plt.show()\n",
    "\n",
    "Matriz_Confusion(y_test_gridRF)\n"
   ]
  },
  {
   "cell_type": "code",
   "execution_count": 13,
   "metadata": {},
   "outputs": [
    {
     "data": {
      "text/plain": [
       "['model_rf_GSearch.joblib']"
      ]
     },
     "execution_count": 13,
     "metadata": {},
     "output_type": "execute_result"
    }
   ],
   "source": [
    "import joblib\n",
    "\n",
    "# Guardar el modelo en un archivo\n",
    "joblib.dump(model_rf_GSearch, 'model_rf_GSearch.joblib')"
   ]
  },
  {
   "attachments": {},
   "cell_type": "markdown",
   "metadata": {},
   "source": [
    "### Casos de Validación con FAST API"
   ]
  },
  {
   "cell_type": "code",
   "execution_count": 16,
   "metadata": {},
   "outputs": [
    {
     "name": "stdout",
     "output_type": "stream",
     "text": [
      "El valor 3 se encuentra en la posición 7\n"
     ]
    }
   ],
   "source": [
    "import numpy as np \n",
    "arreglo=model_rf_GSearch.predict(X_test)\n",
    "indice = np.where(arreglo == 1)\n",
    "\n",
    "# Verifica valor buscado\n",
    "if len(indice[0]) > 0:\n",
    "    # La posición del valor buscado sumando 1 al índice\n",
    "    posicion = indice[0][0] + 1\n",
    "    print(f\"El valor 3 se encuentra en la posición {posicion}\")\n",
    "else:\n",
    "    print(\"El valor 3 no se encontró en el arreglo\")"
   ]
  },
  {
   "cell_type": "code",
   "execution_count": 14,
   "metadata": {},
   "outputs": [
    {
     "data": {
      "text/plain": [
       "array([ 0.5816277 , -0.78665215,  1.14840128, -1.61822196, -2.88499896,\n",
       "       -0.88546878,  0.4378378 , -0.37222741,  0.58448803, -1.53176243,\n",
       "       -0.30242833, -0.65237213,  0.3687663 ,  0.80789438, -1.57878585,\n",
       "       -0.15444214, -0.35537734, -0.72332961, -0.3077765 ,  0.04467111])"
      ]
     },
     "execution_count": 14,
     "metadata": {},
     "output_type": "execute_result"
    }
   ],
   "source": [
    "X_test[0]"
   ]
  },
  {
   "cell_type": "code",
   "execution_count": 17,
   "metadata": {},
   "outputs": [
    {
     "data": {
      "text/plain": [
       "array([ 1.51707671,  1.4312895 , -0.44479696,  0.44064465,  0.34662058,\n",
       "       -0.88546878,  0.4378378 , -0.37222741,  1.02024886,  0.65157059,\n",
       "        1.39273427, -0.65237213,  0.3687663 , -0.59801293,  0.19587291,\n",
       "        1.17372708,  0.18141604, -0.00803464,  1.80963207,  1.58128515])"
      ]
     },
     "execution_count": 17,
     "metadata": {},
     "output_type": "execute_result"
    }
   ],
   "source": [
    "X_test[6]"
   ]
  }
 ],
 "metadata": {
  "kernelspec": {
   "display_name": "menvPy3_10",
   "language": "python",
   "name": "python3"
  },
  "language_info": {
   "codemirror_mode": {
    "name": "ipython",
    "version": 3
   },
   "file_extension": ".py",
   "mimetype": "text/x-python",
   "name": "python",
   "nbconvert_exporter": "python",
   "pygments_lexer": "ipython3",
   "version": "3.10.2"
  },
  "orig_nbformat": 4
 },
 "nbformat": 4,
 "nbformat_minor": 2
}
